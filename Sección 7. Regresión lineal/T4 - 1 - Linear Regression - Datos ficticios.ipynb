{
 "cells": [
  {
   "cell_type": "markdown",
   "metadata": {},
   "source": [
    "# Modelos de Regresión Lineal\n",
    "## Modelo con datos simulados\n",
    "* y = a + b * x\n",
    "* X : 100 valores distribuídos según una N(1.5, 2.5)\n",
    "* Ye = 5 + 1.9 * x + e\n",
    "* e estará distribuído según una N(0, 0.8)"
   ]
  },
  {
   "cell_type": "code",
   "execution_count": 1,
   "metadata": {},
   "outputs": [],
   "source": [
    "import pandas as pd\n",
    "import numpy as np"
   ]
  },
  {
   "cell_type": "code",
   "execution_count": 2,
   "metadata": {},
   "outputs": [],
   "source": [
    "x = 1.5 + 2.5 * np.random.randn(100)"
   ]
  },
  {
   "cell_type": "code",
   "execution_count": 3,
   "metadata": {},
   "outputs": [],
   "source": [
    "res = 0 + 0.8 * np.random.randn(100)"
   ]
  },
  {
   "cell_type": "code",
   "execution_count": 4,
   "metadata": {},
   "outputs": [],
   "source": [
    "y_pred = 5 + 0.3 * x"
   ]
  },
  {
   "cell_type": "code",
   "execution_count": 5,
   "metadata": {},
   "outputs": [],
   "source": [
    "y_act = 5 + 0.3 * x + res"
   ]
  },
  {
   "cell_type": "code",
   "execution_count": 6,
   "metadata": {},
   "outputs": [],
   "source": [
    "x_list = x.tolist()\n",
    "y_pred_list = y_pred.tolist()\n",
    "y_act_list = y_act.tolist()"
   ]
  },
  {
   "cell_type": "code",
   "execution_count": 7,
   "metadata": {},
   "outputs": [],
   "source": [
    "data = pd.DataFrame(\n",
    "    {\n",
    "        \"x\":x_list,\n",
    "        \"y_actual\":y_act_list,\n",
    "        \"y_prediccion\":y_pred_list\n",
    "    }\n",
    ")"
   ]
  },
  {
   "cell_type": "code",
   "execution_count": 8,
   "metadata": {},
   "outputs": [
    {
     "data": {
      "text/html": [
       "<div>\n",
       "<style scoped>\n",
       "    .dataframe tbody tr th:only-of-type {\n",
       "        vertical-align: middle;\n",
       "    }\n",
       "\n",
       "    .dataframe tbody tr th {\n",
       "        vertical-align: top;\n",
       "    }\n",
       "\n",
       "    .dataframe thead th {\n",
       "        text-align: right;\n",
       "    }\n",
       "</style>\n",
       "<table border=\"1\" class=\"dataframe\">\n",
       "  <thead>\n",
       "    <tr style=\"text-align: right;\">\n",
       "      <th></th>\n",
       "      <th>x</th>\n",
       "      <th>y_actual</th>\n",
       "      <th>y_prediccion</th>\n",
       "    </tr>\n",
       "  </thead>\n",
       "  <tbody>\n",
       "    <tr>\n",
       "      <th>0</th>\n",
       "      <td>0.445763</td>\n",
       "      <td>5.181348</td>\n",
       "      <td>5.133729</td>\n",
       "    </tr>\n",
       "    <tr>\n",
       "      <th>1</th>\n",
       "      <td>1.922469</td>\n",
       "      <td>6.190295</td>\n",
       "      <td>5.576741</td>\n",
       "    </tr>\n",
       "    <tr>\n",
       "      <th>2</th>\n",
       "      <td>0.756439</td>\n",
       "      <td>6.325118</td>\n",
       "      <td>5.226932</td>\n",
       "    </tr>\n",
       "    <tr>\n",
       "      <th>3</th>\n",
       "      <td>1.758071</td>\n",
       "      <td>5.847538</td>\n",
       "      <td>5.527421</td>\n",
       "    </tr>\n",
       "    <tr>\n",
       "      <th>4</th>\n",
       "      <td>-1.579013</td>\n",
       "      <td>3.990324</td>\n",
       "      <td>4.526296</td>\n",
       "    </tr>\n",
       "  </tbody>\n",
       "</table>\n",
       "</div>"
      ],
      "text/plain": [
       "          x  y_actual  y_prediccion\n",
       "0  0.445763  5.181348      5.133729\n",
       "1  1.922469  6.190295      5.576741\n",
       "2  0.756439  6.325118      5.226932\n",
       "3  1.758071  5.847538      5.527421\n",
       "4 -1.579013  3.990324      4.526296"
      ]
     },
     "execution_count": 8,
     "metadata": {},
     "output_type": "execute_result"
    }
   ],
   "source": [
    "data.head()"
   ]
  },
  {
   "cell_type": "code",
   "execution_count": 9,
   "metadata": {},
   "outputs": [],
   "source": [
    "import matplotlib.pyplot as plt"
   ]
  },
  {
   "cell_type": "code",
   "execution_count": 10,
   "metadata": {},
   "outputs": [],
   "source": [
    "y_mean = [np.mean(y_act) for i in range(1, len(x_list) + 1)]"
   ]
  },
  {
   "cell_type": "code",
   "execution_count": 11,
   "metadata": {},
   "outputs": [
    {
     "data": {
      "text/plain": [
       "Text(0.5, 1.0, 'Valor Actual vs Predicción')"
      ]
     },
     "execution_count": 11,
     "metadata": {},
     "output_type": "execute_result"
    },
    {
     "data": {
      "image/png": "[encoded data removed]",
      "text/plain": [
       "<Figure size 432x288 with 1 Axes>"
      ]
     },
     "metadata": {
      "needs_background": "light"
     },
     "output_type": "display_data"
    }
   ],
   "source": [
    "%matplotlib inline\n",
    "plt.plot(data[\"x\"],data[\"y_prediccion\"])\n",
    "plt.plot(data[\"x\"], data[\"y_actual\"], \"ro\")\n",
    "plt.plot(data[\"x\"],y_mean, \"g\")\n",
    "plt.title(\"Valor Actual vs Predicción\")"
   ]
  },
  {
   "cell_type": "markdown",
   "metadata": {},
   "source": [
    "## ¿Como es la predicción de buena?\n",
    "* SST = SSD + SSR\n",
    "* SST : Variabilidad de los datos con respecto de su media\n",
    "* SSD : Diferencia entre los datos originales y las predicciones que el modelo no es capaz de explicar (errores que deberían seguir una distribución normal)\n",
    "* SSR : Diferencia entre la regresión y el valor medio que el modelo busca explicar\n",
    "* R2 = SSR / SST, coeficiente de determinación entre 0 y 1"
   ]
  },
  {
   "cell_type": "code",
   "execution_count": 12,
   "metadata": {},
   "outputs": [],
   "source": [
    "y_m = np.mean(y_act)\n",
    "data[\"SSR\"]=(data[\"y_prediccion\"]-y_m)**2\n",
    "data[\"SSD\"]=(data[\"y_prediccion\"]-data[\"y_actual\"])**2\n",
    "data[\"SST\"]=(data[\"y_actual\"]-y_m)**2"
   ]
  },
  {
   "cell_type": "code",
   "execution_count": 13,
   "metadata": {},
   "outputs": [
    {
     "data": {
      "text/html": [
       "<div>\n",
       "<style scoped>\n",
       "    .dataframe tbody tr th:only-of-type {\n",
       "        vertical-align: middle;\n",
       "    }\n",
       "\n",
       "    .dataframe tbody tr th {\n",
       "        vertical-align: top;\n",
       "    }\n",
       "\n",
       "    .dataframe thead th {\n",
       "        text-align: right;\n",
       "    }\n",
       "</style>\n",
       "<table border=\"1\" class=\"dataframe\">\n",
       "  <thead>\n",
       "    <tr style=\"text-align: right;\">\n",
       "      <th></th>\n",
       "      <th>x</th>\n",
       "      <th>y_actual</th>\n",
       "      <th>y_prediccion</th>\n",
       "      <th>SSR</th>\n",
       "      <th>SSD</th>\n",
       "      <th>SST</th>\n",
       "    </tr>\n",
       "  </thead>\n",
       "  <tbody>\n",
       "    <tr>\n",
       "      <th>0</th>\n",
       "      <td>0.445763</td>\n",
       "      <td>5.181348</td>\n",
       "      <td>5.133729</td>\n",
       "      <td>0.087369</td>\n",
       "      <td>0.002268</td>\n",
       "      <td>0.061486</td>\n",
       "    </tr>\n",
       "    <tr>\n",
       "      <th>1</th>\n",
       "      <td>1.922469</td>\n",
       "      <td>6.190295</td>\n",
       "      <td>5.576741</td>\n",
       "      <td>0.021735</td>\n",
       "      <td>0.376449</td>\n",
       "      <td>0.579095</td>\n",
       "    </tr>\n",
       "    <tr>\n",
       "      <th>2</th>\n",
       "      <td>0.756439</td>\n",
       "      <td>6.325118</td>\n",
       "      <td>5.226932</td>\n",
       "      <td>0.040958</td>\n",
       "      <td>1.206014</td>\n",
       "      <td>0.802469</td>\n",
       "    </tr>\n",
       "    <tr>\n",
       "      <th>3</th>\n",
       "      <td>1.758071</td>\n",
       "      <td>5.847538</td>\n",
       "      <td>5.527421</td>\n",
       "      <td>0.009625</td>\n",
       "      <td>0.102475</td>\n",
       "      <td>0.174913</td>\n",
       "    </tr>\n",
       "    <tr>\n",
       "      <th>4</th>\n",
       "      <td>-1.579013</td>\n",
       "      <td>3.990324</td>\n",
       "      <td>4.526296</td>\n",
       "      <td>0.815438</td>\n",
       "      <td>0.287266</td>\n",
       "      <td>2.070686</td>\n",
       "    </tr>\n",
       "  </tbody>\n",
       "</table>\n",
       "</div>"
      ],
      "text/plain": [
       "          x  y_actual  y_prediccion       SSR       SSD       SST\n",
       "0  0.445763  5.181348      5.133729  0.087369  0.002268  0.061486\n",
       "1  1.922469  6.190295      5.576741  0.021735  0.376449  0.579095\n",
       "2  0.756439  6.325118      5.226932  0.040958  1.206014  0.802469\n",
       "3  1.758071  5.847538      5.527421  0.009625  0.102475  0.174913\n",
       "4 -1.579013  3.990324      4.526296  0.815438  0.287266  2.070686"
      ]
     },
     "execution_count": 13,
     "metadata": {},
     "output_type": "execute_result"
    }
   ],
   "source": [
    "data.head()"
   ]
  },
  {
   "cell_type": "code",
   "execution_count": 14,
   "metadata": {},
   "outputs": [],
   "source": [
    "SSR = sum(data[\"SSR\"])\n",
    "SSD = sum(data[\"SSD\"])\n",
    "SST = sum(data[\"SST\"])"
   ]
  },
  {
   "cell_type": "code",
   "execution_count": 15,
   "metadata": {},
   "outputs": [
    {
     "data": {
      "text/plain": [
       "54.71008384758909"
      ]
     },
     "execution_count": 15,
     "metadata": {},
     "output_type": "execute_result"
    }
   ],
   "source": [
    "SSR"
   ]
  },
  {
   "cell_type": "code",
   "execution_count": 16,
   "metadata": {},
   "outputs": [
    {
     "data": {
      "text/plain": [
       "51.43951939725788"
      ]
     },
     "execution_count": 16,
     "metadata": {},
     "output_type": "execute_result"
    }
   ],
   "source": [
    "SSD"
   ]
  },
  {
   "cell_type": "code",
   "execution_count": 17,
   "metadata": {},
   "outputs": [
    {
     "data": {
      "text/plain": [
       "101.21039999385397"
      ]
     },
     "execution_count": 17,
     "metadata": {},
     "output_type": "execute_result"
    }
   ],
   "source": [
    "SST"
   ]
  },
  {
   "cell_type": "code",
   "execution_count": 18,
   "metadata": {},
   "outputs": [
    {
     "data": {
      "text/plain": [
       "106.14960324484697"
      ]
     },
     "execution_count": 18,
     "metadata": {},
     "output_type": "execute_result"
    }
   ],
   "source": [
    "SSR+SSD"
   ]
  },
  {
   "cell_type": "code",
   "execution_count": 19,
   "metadata": {},
   "outputs": [],
   "source": [
    "R2 = SSR/SST"
   ]
  },
  {
   "cell_type": "code",
   "execution_count": 20,
   "metadata": {},
   "outputs": [
    {
     "data": {
      "text/plain": [
       "0.5405579253803104"
      ]
     },
     "execution_count": 20,
     "metadata": {},
     "output_type": "execute_result"
    }
   ],
   "source": [
    "R2"
   ]
  },
  {
   "cell_type": "code",
   "execution_count": 21,
   "metadata": {},
   "outputs": [
    {
     "data": {
      "text/plain": [
       "(array([ 3.,  9.,  9., 13., 22., 10., 15., 10.,  3.,  6.]),\n",
       " array([-1.57615518, -1.25722405, -0.93829292, -0.61936179, -0.30043067,\n",
       "         0.01850046,  0.33743159,  0.65636272,  0.97529385,  1.29422497,\n",
       "         1.6131561 ]),\n",
       " <BarContainer object of 10 artists>)"
      ]
     },
     "execution_count": 21,
     "metadata": {},
     "output_type": "execute_result"
    },
    {
     "data": {
      "image/png": "[encoded data removed]",
      "text/plain": [
       "<Figure size 432x288 with 1 Axes>"
      ]
     },
     "metadata": {
      "needs_background": "light"
     },
     "output_type": "display_data"
    }
   ],
   "source": [
    "plt.hist(data[\"y_prediccion\"]-data[\"y_actual\"])"
   ]
  },
  {
   "cell_type": "markdown",
   "metadata": {},
   "source": [
    "## Obteniendo la recta de regresión \n",
    "\n",
    "* y = a + b * x\n",
    "* b = sum((xi - x_m)*(y_i-y_m))/sum((xi-x_m)^2)\n",
    "* a = y_m - b * x_m"
   ]
  },
  {
   "cell_type": "code",
   "execution_count": 22,
   "metadata": {},
   "outputs": [
    {
     "data": {
      "text/plain": [
       "(1.4295087271088212, 5.4293119653299815)"
      ]
     },
     "execution_count": 22,
     "metadata": {},
     "output_type": "execute_result"
    }
   ],
   "source": [
    "x_mean = np.mean(data[\"x\"])\n",
    "y_mean = np.mean(data[\"y_actual\"])\n",
    "x_mean, y_mean"
   ]
  },
  {
   "cell_type": "code",
   "execution_count": 23,
   "metadata": {},
   "outputs": [],
   "source": [
    "data[\"beta_n\"] = (data[\"x\"]-x_mean)*(data[\"y_actual\"]-y_mean)\n",
    "data[\"beta_d\"] = (data[\"x\"]-x_mean)**2"
   ]
  },
  {
   "cell_type": "code",
   "execution_count": 24,
   "metadata": {},
   "outputs": [],
   "source": [
    "beta = sum(data[\"beta_n\"])/sum(data[\"beta_d\"])"
   ]
  },
  {
   "cell_type": "code",
   "execution_count": 25,
   "metadata": {},
   "outputs": [],
   "source": [
    "alpha = y_mean - beta * x_mean"
   ]
  },
  {
   "cell_type": "code",
   "execution_count": 26,
   "metadata": {},
   "outputs": [
    {
     "data": {
      "text/plain": [
       "(5.019817505840673, 0.28645817386334554)"
      ]
     },
     "execution_count": 26,
     "metadata": {},
     "output_type": "execute_result"
    }
   ],
   "source": [
    "alpha, beta"
   ]
  },
  {
   "cell_type": "markdown",
   "metadata": {},
   "source": [
    "El modelo lineal obtenido por regresión es:\n",
    "y = 5.042341442370516 + 1.9044490309709992 * x"
   ]
  },
  {
   "cell_type": "code",
   "execution_count": 27,
   "metadata": {},
   "outputs": [],
   "source": [
    "data[\"y_model\"] = alpha + beta * data[\"x\"]"
   ]
  },
  {
   "cell_type": "code",
   "execution_count": 28,
   "metadata": {},
   "outputs": [
    {
     "data": {
      "text/html": [
       "<div>\n",
       "<style scoped>\n",
       "    .dataframe tbody tr th:only-of-type {\n",
       "        vertical-align: middle;\n",
       "    }\n",
       "\n",
       "    .dataframe tbody tr th {\n",
       "        vertical-align: top;\n",
       "    }\n",
       "\n",
       "    .dataframe thead th {\n",
       "        text-align: right;\n",
       "    }\n",
       "</style>\n",
       "<table border=\"1\" class=\"dataframe\">\n",
       "  <thead>\n",
       "    <tr style=\"text-align: right;\">\n",
       "      <th></th>\n",
       "      <th>x</th>\n",
       "      <th>y_actual</th>\n",
       "      <th>y_prediccion</th>\n",
       "      <th>SSR</th>\n",
       "      <th>SSD</th>\n",
       "      <th>SST</th>\n",
       "      <th>beta_n</th>\n",
       "      <th>beta_d</th>\n",
       "      <th>y_model</th>\n",
       "    </tr>\n",
       "  </thead>\n",
       "  <tbody>\n",
       "    <tr>\n",
       "      <th>0</th>\n",
       "      <td>0.445763</td>\n",
       "      <td>5.181348</td>\n",
       "      <td>5.133729</td>\n",
       "      <td>0.087369</td>\n",
       "      <td>0.002268</td>\n",
       "      <td>0.061486</td>\n",
       "      <td>0.243934</td>\n",
       "      <td>0.967756</td>\n",
       "      <td>5.147510</td>\n",
       "    </tr>\n",
       "    <tr>\n",
       "      <th>1</th>\n",
       "      <td>1.922469</td>\n",
       "      <td>6.190295</td>\n",
       "      <td>5.576741</td>\n",
       "      <td>0.021735</td>\n",
       "      <td>0.376449</td>\n",
       "      <td>0.579095</td>\n",
       "      <td>0.375135</td>\n",
       "      <td>0.243010</td>\n",
       "      <td>5.570525</td>\n",
       "    </tr>\n",
       "    <tr>\n",
       "      <th>2</th>\n",
       "      <td>0.756439</td>\n",
       "      <td>6.325118</td>\n",
       "      <td>5.226932</td>\n",
       "      <td>0.040958</td>\n",
       "      <td>1.206014</td>\n",
       "      <td>0.802469</td>\n",
       "      <td>-0.602940</td>\n",
       "      <td>0.453023</td>\n",
       "      <td>5.236506</td>\n",
       "    </tr>\n",
       "    <tr>\n",
       "      <th>3</th>\n",
       "      <td>1.758071</td>\n",
       "      <td>5.847538</td>\n",
       "      <td>5.527421</td>\n",
       "      <td>0.009625</td>\n",
       "      <td>0.102475</td>\n",
       "      <td>0.174913</td>\n",
       "      <td>0.137413</td>\n",
       "      <td>0.107953</td>\n",
       "      <td>5.523431</td>\n",
       "    </tr>\n",
       "    <tr>\n",
       "      <th>4</th>\n",
       "      <td>-1.579013</td>\n",
       "      <td>3.990324</td>\n",
       "      <td>4.526296</td>\n",
       "      <td>0.815438</td>\n",
       "      <td>0.287266</td>\n",
       "      <td>2.070686</td>\n",
       "      <td>4.329227</td>\n",
       "      <td>9.051206</td>\n",
       "      <td>4.567496</td>\n",
       "    </tr>\n",
       "  </tbody>\n",
       "</table>\n",
       "</div>"
      ],
      "text/plain": [
       "          x  y_actual  y_prediccion       SSR       SSD       SST    beta_n  \\\n",
       "0  0.445763  5.181348      5.133729  0.087369  0.002268  0.061486  0.243934   \n",
       "1  1.922469  6.190295      5.576741  0.021735  0.376449  0.579095  0.375135   \n",
       "2  0.756439  6.325118      5.226932  0.040958  1.206014  0.802469 -0.602940   \n",
       "3  1.758071  5.847538      5.527421  0.009625  0.102475  0.174913  0.137413   \n",
       "4 -1.579013  3.990324      4.526296  0.815438  0.287266  2.070686  4.329227   \n",
       "\n",
       "     beta_d   y_model  \n",
       "0  0.967756  5.147510  \n",
       "1  0.243010  5.570525  \n",
       "2  0.453023  5.236506  \n",
       "3  0.107953  5.523431  \n",
       "4  9.051206  4.567496  "
      ]
     },
     "execution_count": 28,
     "metadata": {},
     "output_type": "execute_result"
    }
   ],
   "source": [
    "data.head()"
   ]
  },
  {
   "cell_type": "code",
   "execution_count": 29,
   "metadata": {},
   "outputs": [],
   "source": [
    "SSR = sum((data[\"y_model\"]-y_mean)**2)\n",
    "SSD = sum((data[\"y_model\"]-data[\"y_actual\"])**2)\n",
    "SST = sum((data[\"y_actual\"]-y_mean)**2)"
   ]
  },
  {
   "cell_type": "code",
   "execution_count": 30,
   "metadata": {},
   "outputs": [
    {
     "data": {
      "text/plain": [
       "(49.88237713027072, 51.328022863583286, 101.210399993854)"
      ]
     },
     "execution_count": 30,
     "metadata": {},
     "output_type": "execute_result"
    }
   ],
   "source": [
    "SSR, SSD, SST"
   ]
  },
  {
   "cell_type": "code",
   "execution_count": 31,
   "metadata": {},
   "outputs": [
    {
     "data": {
      "text/plain": [
       "0.49285821549267494"
      ]
     },
     "execution_count": 31,
     "metadata": {},
     "output_type": "execute_result"
    }
   ],
   "source": [
    "R2 = SSR / SST\n",
    "R2"
   ]
  },
  {
   "cell_type": "code",
   "execution_count": 32,
   "metadata": {},
   "outputs": [
    {
     "data": {
      "text/plain": [
       "Text(0.5, 1.0, 'Valor Actual vs Predicción')"
      ]
     },
     "execution_count": 32,
     "metadata": {},
     "output_type": "execute_result"
    },
    {
     "data": {
      "image/png": "[encoded data removed]",
      "text/plain": [
       "<Figure size 432x288 with 1 Axes>"
      ]
     },
     "metadata": {
      "needs_background": "light"
     },
     "output_type": "display_data"
    }
   ],
   "source": [
    "y_mean = [np.mean(y_act) for i in range(1, len(x_list) + 1)]\n",
    "\n",
    "%matplotlib inline\n",
    "plt.plot(data[\"x\"],data[\"y_prediccion\"])\n",
    "plt.plot(data[\"x\"], data[\"y_actual\"], \"ro\")\n",
    "plt.plot(data[\"x\"],y_mean, \"g\")\n",
    "plt.plot(data[\"x\"], data[\"y_model\"])\n",
    "plt.title(\"Valor Actual vs Predicción\")"
   ]
  },
  {
   "cell_type": "markdown",
   "metadata": {},
   "source": [
    "## Error estándar de los residuos (RSE)"
   ]
  },
  {
   "cell_type": "code",
   "execution_count": 33,
   "metadata": {},
   "outputs": [
    {
     "data": {
      "text/plain": [
       "0.7237094274242161"
      ]
     },
     "execution_count": 33,
     "metadata": {},
     "output_type": "execute_result"
    }
   ],
   "source": [
    "RSE = np.sqrt(SSD/(len(data)-2))\n",
    "RSE"
   ]
  },
  {
   "cell_type": "code",
   "execution_count": 34,
   "metadata": {},
   "outputs": [
    {
     "data": {
      "text/plain": [
       "5.4293119653299815"
      ]
     },
     "execution_count": 34,
     "metadata": {},
     "output_type": "execute_result"
    }
   ],
   "source": [
    "np.mean(data[\"y_actual\"])"
   ]
  },
  {
   "cell_type": "code",
   "execution_count": 35,
   "metadata": {},
   "outputs": [
    {
     "data": {
      "text/plain": [
       "0.13329671089921072"
      ]
     },
     "execution_count": 35,
     "metadata": {},
     "output_type": "execute_result"
    }
   ],
   "source": [
    "RSE / np.mean(data[\"y_actual\"])"
   ]
  }
 ],
 "metadata": {
  "kernelspec": {
   "display_name": "Python 3",
   "language": "python",
   "name": "python3"
  },
  "language_info": {
   "codemirror_mode": {
    "name": "ipython",
    "version": 3
   },
   "file_extension": ".py",
   "mimetype": "text/x-python",
   "name": "python",
   "nbconvert_exporter": "python",
   "pygments_lexer": "ipython3",
   "version": "3.8.5"
  }
 },
 "nbformat": 4,
 "nbformat_minor": 2
}
