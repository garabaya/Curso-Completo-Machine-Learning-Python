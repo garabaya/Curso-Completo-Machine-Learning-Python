{
 "cells": [
  {
   "cell_type": "code",
   "execution_count": 8,
   "metadata": {},
   "outputs": [],
   "source": [
    "import pandas as pd\n",
    "import numpy as np\n",
    "import random"
   ]
  },
  {
   "cell_type": "code",
   "execution_count": 17,
   "metadata": {},
   "outputs": [],
   "source": [
    "raw_data = pd.read_csv('../datasets/exercises/downloaded_covid_effects.csv')"
   ]
  },
  {
   "cell_type": "code",
   "execution_count": 16,
   "metadata": {},
   "outputs": [
    {
     "name": "stdout",
     "output_type": "stream",
     "text": [
      "[ 0  1  2  3  4  5  6  7  8  9 10 11 12 13 14 15 16 17 18 19 20 21 22 23\n",
      " 24 25 26 27 28 29 30 31 32 33 34 35 36 37 38 39 40 41 42 43 44 45 46 47\n",
      " 48 49 50 51 52 53 54 55 56 57 58 59 60 61 62 63 64 65 66 67 68 69 70 71\n",
      " 72 73 74 75 76 77 78 79 80 81 82 83 84 85 86 87 88 89 90 91 92 93 94 95\n",
      " 96 97 98 99]\n"
     ]
    },
    {
     "data": {
      "text/plain": [
       "array([84, 23,  1, 98, 26, 75, 49, 77, 95, 71, 20, 72, 28, 74, 60, 19, 50,\n",
       "       31, 76,  9, 59, 68, 14, 27, 99, 25, 43, 66, 87, 10, 78, 30,  2, 88,\n",
       "       13, 21, 40, 36, 52, 42, 86, 11, 57, 45, 15,  4, 96, 39, 79, 83, 12,\n",
       "       38, 91,  3, 92,  5, 85,  6,  0, 55, 93, 37, 69, 47, 46, 82, 51, 22,\n",
       "       54, 24, 16, 94, 62, 97,  8, 41, 44, 35, 90, 53, 65, 56, 81, 58, 18,\n",
       "       89,  7, 63, 80, 64, 33, 61, 73, 17, 32, 48, 70, 29, 67, 34])"
      ]
     },
     "execution_count": 16,
     "metadata": {},
     "output_type": "execute_result"
    }
   ],
   "source": [
    "a = np.arange(100)\n",
    "print(a)\n",
    "np.random.shuffle(a)\n",
    "a"
   ]
  },
  {
   "cell_type": "code",
   "execution_count": 34,
   "metadata": {},
   "outputs": [
    {
     "data": {
      "text/html": [
       "<div>\n",
       "<style scoped>\n",
       "    .dataframe tbody tr th:only-of-type {\n",
       "        vertical-align: middle;\n",
       "    }\n",
       "\n",
       "    .dataframe tbody tr th {\n",
       "        vertical-align: top;\n",
       "    }\n",
       "\n",
       "    .dataframe thead th {\n",
       "        text-align: right;\n",
       "    }\n",
       "</style>\n",
       "<table border=\"1\" class=\"dataframe\">\n",
       "  <thead>\n",
       "    <tr style=\"text-align: right;\">\n",
       "      <th></th>\n",
       "      <th>Unnamed: 0</th>\n",
       "      <th>Direction</th>\n",
       "      <th>Year</th>\n",
       "      <th>Date</th>\n",
       "      <th>Weekday</th>\n",
       "      <th>Current_Match</th>\n",
       "      <th>Country</th>\n",
       "      <th>Commodity</th>\n",
       "      <th>Transport_Mode</th>\n",
       "      <th>Measure</th>\n",
       "      <th>Value</th>\n",
       "      <th>Cumulative</th>\n",
       "    </tr>\n",
       "  </thead>\n",
       "  <tbody>\n",
       "    <tr>\n",
       "      <th>24303</th>\n",
       "      <td>24303</td>\n",
       "      <td>Exports</td>\n",
       "      <td>2018</td>\n",
       "      <td>03/12/2018</td>\n",
       "      <td>Monday</td>\n",
       "      <td>30/11/2020</td>\n",
       "      <td>All</td>\n",
       "      <td>Meat</td>\n",
       "      <td>All</td>\n",
       "      <td>$</td>\n",
       "      <td>29000000</td>\n",
       "      <td>6079000000</td>\n",
       "    </tr>\n",
       "  </tbody>\n",
       "</table>\n",
       "</div>"
      ],
      "text/plain": [
       "       Unnamed: 0 Direction  Year        Date Weekday Current_Match Country  \\\n",
       "24303       24303   Exports  2018  03/12/2018  Monday    30/11/2020     All   \n",
       "\n",
       "      Commodity Transport_Mode Measure     Value  Cumulative  \n",
       "24303      Meat            All       $  29000000  6079000000  "
      ]
     },
     "execution_count": 34,
     "metadata": {},
     "output_type": "execute_result"
    }
   ],
   "source": [
    "raw_data.sample()"
   ]
  },
  {
   "cell_type": "code",
   "execution_count": null,
   "metadata": {},
   "outputs": [],
   "source": []
  }
 ],
 "metadata": {
  "kernelspec": {
   "display_name": "Python 3",
   "language": "python",
   "name": "python3"
  },
  "language_info": {
   "codemirror_mode": {
    "name": "ipython",
    "version": 3
   },
   "file_extension": ".py",
   "mimetype": "text/x-python",
   "name": "python",
   "nbconvert_exporter": "python",
   "pygments_lexer": "ipython3",
   "version": "3.6.9"
  }
 },
 "nbformat": 4,
 "nbformat_minor": 4
}
