{
 "cells": [
  {
   "cell_type": "markdown",
   "metadata": {},
   "source": [
    "# Training set y Testing set"
   ]
  },
  {
   "cell_type": "code",
   "execution_count": 13,
   "metadata": {},
   "outputs": [],
   "source": [
    "import pandas as pd\n",
    "import numpy as np\n",
    "import matplotlib.pyplot as plt"
   ]
  },
  {
   "cell_type": "code",
   "execution_count": 14,
   "metadata": {},
   "outputs": [],
   "source": [
    "data = pd.read_csv(\"../datasets/exercises/downloaded_covid_effects.csv\")"
   ]
  },
  {
   "cell_type": "code",
   "execution_count": 15,
   "metadata": {},
   "outputs": [
    {
     "data": {
      "text/html": [
       "<div>\n",
       "<style scoped>\n",
       "    .dataframe tbody tr th:only-of-type {\n",
       "        vertical-align: middle;\n",
       "    }\n",
       "\n",
       "    .dataframe tbody tr th {\n",
       "        vertical-align: top;\n",
       "    }\n",
       "\n",
       "    .dataframe thead th {\n",
       "        text-align: right;\n",
       "    }\n",
       "</style>\n",
       "<table border=\"1\" class=\"dataframe\">\n",
       "  <thead>\n",
       "    <tr style=\"text-align: right;\">\n",
       "      <th></th>\n",
       "      <th>Unnamed: 0</th>\n",
       "      <th>Direction</th>\n",
       "      <th>Year</th>\n",
       "      <th>Date</th>\n",
       "      <th>Weekday</th>\n",
       "      <th>Current_Match</th>\n",
       "      <th>Country</th>\n",
       "      <th>Commodity</th>\n",
       "      <th>Transport_Mode</th>\n",
       "      <th>Measure</th>\n",
       "      <th>Value</th>\n",
       "      <th>Cumulative</th>\n",
       "    </tr>\n",
       "  </thead>\n",
       "  <tbody>\n",
       "    <tr>\n",
       "      <th>0</th>\n",
       "      <td>0</td>\n",
       "      <td>Exports</td>\n",
       "      <td>2015</td>\n",
       "      <td>31/01/2015</td>\n",
       "      <td>Saturday</td>\n",
       "      <td>01/02/2020</td>\n",
       "      <td>All</td>\n",
       "      <td>All</td>\n",
       "      <td>All</td>\n",
       "      <td>$</td>\n",
       "      <td>257000000</td>\n",
       "      <td>257000000</td>\n",
       "    </tr>\n",
       "    <tr>\n",
       "      <th>1</th>\n",
       "      <td>1</td>\n",
       "      <td>Exports</td>\n",
       "      <td>2015</td>\n",
       "      <td>01/02/2015</td>\n",
       "      <td>Sunday</td>\n",
       "      <td>02/02/2020</td>\n",
       "      <td>All</td>\n",
       "      <td>All</td>\n",
       "      <td>All</td>\n",
       "      <td>$</td>\n",
       "      <td>123000000</td>\n",
       "      <td>380000000</td>\n",
       "    </tr>\n",
       "    <tr>\n",
       "      <th>2</th>\n",
       "      <td>2</td>\n",
       "      <td>Exports</td>\n",
       "      <td>2015</td>\n",
       "      <td>02/02/2015</td>\n",
       "      <td>Monday</td>\n",
       "      <td>03/02/2020</td>\n",
       "      <td>All</td>\n",
       "      <td>All</td>\n",
       "      <td>All</td>\n",
       "      <td>$</td>\n",
       "      <td>176000000</td>\n",
       "      <td>556000000</td>\n",
       "    </tr>\n",
       "    <tr>\n",
       "      <th>3</th>\n",
       "      <td>3</td>\n",
       "      <td>Exports</td>\n",
       "      <td>2015</td>\n",
       "      <td>03/02/2015</td>\n",
       "      <td>Tuesday</td>\n",
       "      <td>04/02/2020</td>\n",
       "      <td>All</td>\n",
       "      <td>All</td>\n",
       "      <td>All</td>\n",
       "      <td>$</td>\n",
       "      <td>115000000</td>\n",
       "      <td>671000000</td>\n",
       "    </tr>\n",
       "    <tr>\n",
       "      <th>4</th>\n",
       "      <td>4</td>\n",
       "      <td>Exports</td>\n",
       "      <td>2015</td>\n",
       "      <td>04/02/2015</td>\n",
       "      <td>Wednesday</td>\n",
       "      <td>05/02/2020</td>\n",
       "      <td>All</td>\n",
       "      <td>All</td>\n",
       "      <td>All</td>\n",
       "      <td>$</td>\n",
       "      <td>74000000</td>\n",
       "      <td>746000000</td>\n",
       "    </tr>\n",
       "  </tbody>\n",
       "</table>\n",
       "</div>"
      ],
      "text/plain": [
       "   Unnamed: 0 Direction  Year        Date    Weekday Current_Match Country  \\\n",
       "0           0   Exports  2015  31/01/2015   Saturday    01/02/2020     All   \n",
       "1           1   Exports  2015  01/02/2015     Sunday    02/02/2020     All   \n",
       "2           2   Exports  2015  02/02/2015     Monday    03/02/2020     All   \n",
       "3           3   Exports  2015  03/02/2015    Tuesday    04/02/2020     All   \n",
       "4           4   Exports  2015  04/02/2015  Wednesday    05/02/2020     All   \n",
       "\n",
       "  Commodity Transport_Mode Measure      Value  Cumulative  \n",
       "0       All            All       $  257000000   257000000  \n",
       "1       All            All       $  123000000   380000000  \n",
       "2       All            All       $  176000000   556000000  \n",
       "3       All            All       $  115000000   671000000  \n",
       "4       All            All       $   74000000   746000000  "
      ]
     },
     "execution_count": 15,
     "metadata": {},
     "output_type": "execute_result"
    }
   ],
   "source": [
    "data.head()"
   ]
  },
  {
   "cell_type": "code",
   "execution_count": 16,
   "metadata": {},
   "outputs": [
    {
     "data": {
      "text/plain": [
       "76766"
      ]
     },
     "execution_count": 16,
     "metadata": {},
     "output_type": "execute_result"
    }
   ],
   "source": [
    "len(data)"
   ]
  },
  {
   "cell_type": "markdown",
   "metadata": {},
   "source": [
    "## Dividir utilizando la distribución normal"
   ]
  },
  {
   "cell_type": "code",
   "execution_count": 17,
   "metadata": {},
   "outputs": [],
   "source": [
    "a = np.random.randn(len(data))"
   ]
  },
  {
   "cell_type": "code",
   "execution_count": 18,
   "metadata": {},
   "outputs": [
    {
     "data": {
      "text/plain": [
       "(array([3.6000e+01, 5.3200e+02, 4.0820e+03, 1.5290e+04, 2.5814e+04,\n",
       "        2.0963e+04, 8.3060e+03, 1.5680e+03, 1.6700e+02, 8.0000e+00]),\n",
       " array([-4.20270017, -3.31539896, -2.42809776, -1.54079656, -0.65349536,\n",
       "         0.23380585,  1.12110705,  2.00840825,  2.89570945,  3.78301065,\n",
       "         4.67031186]),\n",
       " <a list of 10 Patch objects>)"
      ]
     },
     "execution_count": 18,
     "metadata": {},
     "output_type": "execute_result"
    },
    {
     "data": {
      "image/png": "[encoded data removed]",
      "text/plain": [
       "<Figure size 432x288 with 1 Axes>"
      ]
     },
     "metadata": {
      "needs_background": "light"
     },
     "output_type": "display_data"
    }
   ],
   "source": [
    "plt.hist(a)"
   ]
  },
  {
   "cell_type": "code",
   "execution_count": 19,
   "metadata": {},
   "outputs": [],
   "source": [
    "check = (a<.8)"
   ]
  },
  {
   "cell_type": "code",
   "execution_count": 20,
   "metadata": {},
   "outputs": [
    {
     "data": {
      "text/plain": [
       "array([ True,  True,  True, ...,  True,  True,  True])"
      ]
     },
     "execution_count": 20,
     "metadata": {},
     "output_type": "execute_result"
    }
   ],
   "source": [
    "check"
   ]
  },
  {
   "cell_type": "code",
   "execution_count": 23,
   "metadata": {},
   "outputs": [
    {
     "data": {
      "text/plain": [
       "(array([16178.,     0.,     0.,     0.,     0.,     0.,     0.,     0.,\n",
       "            0., 60588.]),\n",
       " array([0. , 0.1, 0.2, 0.3, 0.4, 0.5, 0.6, 0.7, 0.8, 0.9, 1. ]),\n",
       " <a list of 10 Patch objects>)"
      ]
     },
     "execution_count": 23,
     "metadata": {},
     "output_type": "execute_result"
    },
    {
     "data": {
      "image/png": "[encoded data removed]",
      "text/plain": [
       "<Figure size 432x288 with 1 Axes>"
      ]
     },
     "metadata": {
      "needs_background": "light"
     },
     "output_type": "display_data"
    }
   ],
   "source": [
    "plt.hist(check.astype(int))"
   ]
  },
  {
   "cell_type": "code",
   "execution_count": 24,
   "metadata": {},
   "outputs": [],
   "source": [
    "training = data[check]\n",
    "testing = data[~check]"
   ]
  },
  {
   "cell_type": "code",
   "execution_count": 25,
   "metadata": {},
   "outputs": [
    {
     "data": {
      "text/plain": [
       "60588"
      ]
     },
     "execution_count": 25,
     "metadata": {},
     "output_type": "execute_result"
    }
   ],
   "source": [
    "len(training)"
   ]
  },
  {
   "cell_type": "code",
   "execution_count": 26,
   "metadata": {},
   "outputs": [
    {
     "data": {
      "text/plain": [
       "16178"
      ]
     },
     "execution_count": 26,
     "metadata": {},
     "output_type": "execute_result"
    }
   ],
   "source": [
    "len(testing)"
   ]
  },
  {
   "cell_type": "markdown",
   "metadata": {},
   "source": [
    "## Con la libreria sklearn"
   ]
  },
  {
   "cell_type": "code",
   "execution_count": 27,
   "metadata": {},
   "outputs": [],
   "source": [
    "from sklearn.model_selection import train_test_split"
   ]
  },
  {
   "cell_type": "code",
   "execution_count": 28,
   "metadata": {},
   "outputs": [],
   "source": [
    "train, test = train_test_split(data, test_size = .2)"
   ]
  },
  {
   "cell_type": "code",
   "execution_count": 29,
   "metadata": {},
   "outputs": [
    {
     "data": {
      "text/plain": [
       "61412"
      ]
     },
     "execution_count": 29,
     "metadata": {},
     "output_type": "execute_result"
    }
   ],
   "source": [
    "len(train)"
   ]
  },
  {
   "cell_type": "code",
   "execution_count": 30,
   "metadata": {},
   "outputs": [
    {
     "data": {
      "text/plain": [
       "15354"
      ]
     },
     "execution_count": 30,
     "metadata": {},
     "output_type": "execute_result"
    }
   ],
   "source": [
    "len(test)"
   ]
  },
  {
   "cell_type": "markdown",
   "metadata": {},
   "source": [
    "## Usando DataFrame.sample()"
   ]
  },
  {
   "cell_type": "code",
   "execution_count": 36,
   "metadata": {},
   "outputs": [],
   "source": [
    "data2 = data.sample(frac=1).reset_index(drop=True)"
   ]
  },
  {
   "cell_type": "code",
   "execution_count": 37,
   "metadata": {},
   "outputs": [
    {
     "data": {
      "text/html": [
       "<div>\n",
       "<style scoped>\n",
       "    .dataframe tbody tr th:only-of-type {\n",
       "        vertical-align: middle;\n",
       "    }\n",
       "\n",
       "    .dataframe tbody tr th {\n",
       "        vertical-align: top;\n",
       "    }\n",
       "\n",
       "    .dataframe thead th {\n",
       "        text-align: right;\n",
       "    }\n",
       "</style>\n",
       "<table border=\"1\" class=\"dataframe\">\n",
       "  <thead>\n",
       "    <tr style=\"text-align: right;\">\n",
       "      <th></th>\n",
       "      <th>Unnamed: 0</th>\n",
       "      <th>Direction</th>\n",
       "      <th>Year</th>\n",
       "      <th>Date</th>\n",
       "      <th>Weekday</th>\n",
       "      <th>Current_Match</th>\n",
       "      <th>Country</th>\n",
       "      <th>Commodity</th>\n",
       "      <th>Transport_Mode</th>\n",
       "      <th>Measure</th>\n",
       "      <th>Value</th>\n",
       "      <th>Cumulative</th>\n",
       "    </tr>\n",
       "  </thead>\n",
       "  <tbody>\n",
       "    <tr>\n",
       "      <th>0</th>\n",
       "      <td>15988</td>\n",
       "      <td>Exports</td>\n",
       "      <td>2016</td>\n",
       "      <td>03/12/2016</td>\n",
       "      <td>Saturday</td>\n",
       "      <td>05/12/2020</td>\n",
       "      <td>Total (excluding China)</td>\n",
       "      <td>All</td>\n",
       "      <td>All</td>\n",
       "      <td>$</td>\n",
       "      <td>101000000</td>\n",
       "      <td>33359000000</td>\n",
       "    </tr>\n",
       "    <tr>\n",
       "      <th>1</th>\n",
       "      <td>61259</td>\n",
       "      <td>Imports</td>\n",
       "      <td>2020</td>\n",
       "      <td>21/07/2020</td>\n",
       "      <td>Tuesday</td>\n",
       "      <td>21/07/2020</td>\n",
       "      <td>China</td>\n",
       "      <td>All</td>\n",
       "      <td>All</td>\n",
       "      <td>$</td>\n",
       "      <td>51000000</td>\n",
       "      <td>5442000000</td>\n",
       "    </tr>\n",
       "    <tr>\n",
       "      <th>2</th>\n",
       "      <td>40681</td>\n",
       "      <td>Exports</td>\n",
       "      <td>2016</td>\n",
       "      <td>12/04/2016</td>\n",
       "      <td>Tuesday</td>\n",
       "      <td>14/04/2020</td>\n",
       "      <td>China</td>\n",
       "      <td>Forestry</td>\n",
       "      <td>All</td>\n",
       "      <td>$</td>\n",
       "      <td>8000000</td>\n",
       "      <td>435000000</td>\n",
       "    </tr>\n",
       "    <tr>\n",
       "      <th>3</th>\n",
       "      <td>69031</td>\n",
       "      <td>Imports</td>\n",
       "      <td>2020</td>\n",
       "      <td>21/10/2020</td>\n",
       "      <td>Wednesday</td>\n",
       "      <td>21/10/2020</td>\n",
       "      <td>All</td>\n",
       "      <td>Machinery and electronics</td>\n",
       "      <td>All</td>\n",
       "      <td>$</td>\n",
       "      <td>51000000</td>\n",
       "      <td>9395000000</td>\n",
       "    </tr>\n",
       "    <tr>\n",
       "      <th>4</th>\n",
       "      <td>32974</td>\n",
       "      <td>Exports</td>\n",
       "      <td>2016</td>\n",
       "      <td>14/02/2016</td>\n",
       "      <td>Sunday</td>\n",
       "      <td>16/02/2020</td>\n",
       "      <td>China</td>\n",
       "      <td>Dairy</td>\n",
       "      <td>All</td>\n",
       "      <td>$</td>\n",
       "      <td>6000000</td>\n",
       "      <td>129000000</td>\n",
       "    </tr>\n",
       "  </tbody>\n",
       "</table>\n",
       "</div>"
      ],
      "text/plain": [
       "   Unnamed: 0 Direction  Year        Date    Weekday Current_Match  \\\n",
       "0       15988   Exports  2016  03/12/2016   Saturday    05/12/2020   \n",
       "1       61259   Imports  2020  21/07/2020    Tuesday    21/07/2020   \n",
       "2       40681   Exports  2016  12/04/2016    Tuesday    14/04/2020   \n",
       "3       69031   Imports  2020  21/10/2020  Wednesday    21/10/2020   \n",
       "4       32974   Exports  2016  14/02/2016     Sunday    16/02/2020   \n",
       "\n",
       "                   Country                  Commodity Transport_Mode Measure  \\\n",
       "0  Total (excluding China)                        All            All       $   \n",
       "1                    China                        All            All       $   \n",
       "2                    China                   Forestry            All       $   \n",
       "3                      All  Machinery and electronics            All       $   \n",
       "4                    China                      Dairy            All       $   \n",
       "\n",
       "       Value   Cumulative  \n",
       "0  101000000  33359000000  \n",
       "1   51000000   5442000000  \n",
       "2    8000000    435000000  \n",
       "3   51000000   9395000000  \n",
       "4    6000000    129000000  "
      ]
     },
     "execution_count": 37,
     "metadata": {},
     "output_type": "execute_result"
    }
   ],
   "source": [
    "data2.head()"
   ]
  },
  {
   "cell_type": "markdown",
   "metadata": {},
   "source": [
    "## Usando Shuffle de sklearn"
   ]
  },
  {
   "cell_type": "code",
   "execution_count": 40,
   "metadata": {},
   "outputs": [
    {
     "data": {
      "text/html": [
       "<div>\n",
       "<style scoped>\n",
       "    .dataframe tbody tr th:only-of-type {\n",
       "        vertical-align: middle;\n",
       "    }\n",
       "\n",
       "    .dataframe tbody tr th {\n",
       "        vertical-align: top;\n",
       "    }\n",
       "\n",
       "    .dataframe thead th {\n",
       "        text-align: right;\n",
       "    }\n",
       "</style>\n",
       "<table border=\"1\" class=\"dataframe\">\n",
       "  <thead>\n",
       "    <tr style=\"text-align: right;\">\n",
       "      <th></th>\n",
       "      <th>Unnamed: 0</th>\n",
       "      <th>Direction</th>\n",
       "      <th>Year</th>\n",
       "      <th>Date</th>\n",
       "      <th>Weekday</th>\n",
       "      <th>Current_Match</th>\n",
       "      <th>Country</th>\n",
       "      <th>Commodity</th>\n",
       "      <th>Transport_Mode</th>\n",
       "      <th>Measure</th>\n",
       "      <th>Value</th>\n",
       "      <th>Cumulative</th>\n",
       "    </tr>\n",
       "  </thead>\n",
       "  <tbody>\n",
       "    <tr>\n",
       "      <th>0</th>\n",
       "      <td>44927</td>\n",
       "      <td>Exports</td>\n",
       "      <td>2017</td>\n",
       "      <td>13/07/2017</td>\n",
       "      <td>Thursday</td>\n",
       "      <td>09/07/2020</td>\n",
       "      <td>United States</td>\n",
       "      <td>Meat</td>\n",
       "      <td>All</td>\n",
       "      <td>$</td>\n",
       "      <td>3000000</td>\n",
       "      <td>940000000</td>\n",
       "    </tr>\n",
       "    <tr>\n",
       "      <th>1</th>\n",
       "      <td>56334</td>\n",
       "      <td>Exports</td>\n",
       "      <td>2017</td>\n",
       "      <td>22/03/2017</td>\n",
       "      <td>Wednesday</td>\n",
       "      <td>18/03/2020</td>\n",
       "      <td>East Asia (excluding China)</td>\n",
       "      <td>Dairy</td>\n",
       "      <td>All</td>\n",
       "      <td>Tonnes</td>\n",
       "      <td>2000</td>\n",
       "      <td>120000</td>\n",
       "    </tr>\n",
       "    <tr>\n",
       "      <th>2</th>\n",
       "      <td>38950</td>\n",
       "      <td>Exports</td>\n",
       "      <td>2016</td>\n",
       "      <td>08/10/2016</td>\n",
       "      <td>Saturday</td>\n",
       "      <td>10/10/2020</td>\n",
       "      <td>China</td>\n",
       "      <td>Seafood</td>\n",
       "      <td>All</td>\n",
       "      <td>$</td>\n",
       "      <td>1000000</td>\n",
       "      <td>401000000</td>\n",
       "    </tr>\n",
       "    <tr>\n",
       "      <th>3</th>\n",
       "      <td>36788</td>\n",
       "      <td>Exports</td>\n",
       "      <td>2016</td>\n",
       "      <td>07/02/2016</td>\n",
       "      <td>Sunday</td>\n",
       "      <td>09/02/2020</td>\n",
       "      <td>China</td>\n",
       "      <td>Meat</td>\n",
       "      <td>All</td>\n",
       "      <td>Tonnes</td>\n",
       "      <td>1000</td>\n",
       "      <td>8000</td>\n",
       "    </tr>\n",
       "    <tr>\n",
       "      <th>4</th>\n",
       "      <td>5821</td>\n",
       "      <td>Exports</td>\n",
       "      <td>2015</td>\n",
       "      <td>02/04/2015</td>\n",
       "      <td>Thursday</td>\n",
       "      <td>02/04/2020</td>\n",
       "      <td>United States</td>\n",
       "      <td>All</td>\n",
       "      <td>All</td>\n",
       "      <td>$</td>\n",
       "      <td>13000000</td>\n",
       "      <td>1133000000</td>\n",
       "    </tr>\n",
       "  </tbody>\n",
       "</table>\n",
       "</div>"
      ],
      "text/plain": [
       "   Unnamed: 0 Direction  Year        Date    Weekday Current_Match  \\\n",
       "0       44927   Exports  2017  13/07/2017   Thursday    09/07/2020   \n",
       "1       56334   Exports  2017  22/03/2017  Wednesday    18/03/2020   \n",
       "2       38950   Exports  2016  08/10/2016   Saturday    10/10/2020   \n",
       "3       36788   Exports  2016  07/02/2016     Sunday    09/02/2020   \n",
       "4        5821   Exports  2015  02/04/2015   Thursday    02/04/2020   \n",
       "\n",
       "                       Country Commodity Transport_Mode Measure     Value  \\\n",
       "0                United States      Meat            All       $   3000000   \n",
       "1  East Asia (excluding China)     Dairy            All  Tonnes      2000   \n",
       "2                        China   Seafood            All       $   1000000   \n",
       "3                        China      Meat            All  Tonnes      1000   \n",
       "4                United States       All            All       $  13000000   \n",
       "\n",
       "   Cumulative  \n",
       "0   940000000  \n",
       "1      120000  \n",
       "2   401000000  \n",
       "3        8000  \n",
       "4  1133000000  "
      ]
     },
     "execution_count": 40,
     "metadata": {},
     "output_type": "execute_result"
    }
   ],
   "source": [
    "import sklearn as sk\n",
    "data3 = sk.utils.shuffle(data).reset_index(drop=True)\n",
    "data3.head()"
   ]
  },
  {
   "cell_type": "code",
   "execution_count": 44,
   "metadata": {},
   "outputs": [],
   "source": [
    "cut_id = int(.8*len(data2))\n",
    "train_data = data2[:cut_id]\n",
    "test_data = data2[cut_id+1:]"
   ]
  },
  {
   "cell_type": "code",
   "execution_count": 45,
   "metadata": {},
   "outputs": [
    {
     "data": {
      "text/plain": [
       "61412"
      ]
     },
     "execution_count": 45,
     "metadata": {},
     "output_type": "execute_result"
    }
   ],
   "source": [
    "len(train_data)"
   ]
  },
  {
   "cell_type": "code",
   "execution_count": 46,
   "metadata": {},
   "outputs": [
    {
     "data": {
      "text/plain": [
       "15353"
      ]
     },
     "execution_count": 46,
     "metadata": {},
     "output_type": "execute_result"
    }
   ],
   "source": [
    "len(test_data)"
   ]
  },
  {
   "cell_type": "code",
   "execution_count": null,
   "metadata": {},
   "outputs": [],
   "source": []
  }
 ],
 "metadata": {
  "kernelspec": {
   "display_name": "Python 3",
   "language": "python",
   "name": "python3"
  },
  "language_info": {
   "codemirror_mode": {
    "name": "ipython",
    "version": 3
   },
   "file_extension": ".py",
   "mimetype": "text/x-python",
   "name": "python",
   "nbconvert_exporter": "python",
   "pygments_lexer": "ipython3",
   "version": "3.6.9"
  }
 },
 "nbformat": 4,
 "nbformat_minor": 4
}
