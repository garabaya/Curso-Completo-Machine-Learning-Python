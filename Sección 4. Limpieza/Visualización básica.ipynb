{
 "cells": [
  {
   "cell_type": "markdown",
   "metadata": {},
   "source": [
    "# Visualización Básica"
   ]
  },
  {
   "cell_type": "code",
   "execution_count": 1,
   "metadata": {},
   "outputs": [],
   "source": [
    "import pandas as pd\n",
    "import matplotlib.pyplot as plt\n",
    "import numpy as np\n",
    "\n",
    "%matplotlib inline"
   ]
  },
  {
   "cell_type": "code",
   "execution_count": 8,
   "metadata": {},
   "outputs": [],
   "source": [
    "raw_data = pd.read_csv(\"../datasets/exercises/downloaded_covid_effects.csv\")"
   ]
  },
  {
   "cell_type": "code",
   "execution_count": 3,
   "metadata": {},
   "outputs": [
    {
     "data": {
      "text/html": [
       "<div>\n",
       "<style scoped>\n",
       "    .dataframe tbody tr th:only-of-type {\n",
       "        vertical-align: middle;\n",
       "    }\n",
       "\n",
       "    .dataframe tbody tr th {\n",
       "        vertical-align: top;\n",
       "    }\n",
       "\n",
       "    .dataframe thead th {\n",
       "        text-align: right;\n",
       "    }\n",
       "</style>\n",
       "<table border=\"1\" class=\"dataframe\">\n",
       "  <thead>\n",
       "    <tr style=\"text-align: right;\">\n",
       "      <th></th>\n",
       "      <th>Unnamed: 0</th>\n",
       "      <th>Direction</th>\n",
       "      <th>Year</th>\n",
       "      <th>Date</th>\n",
       "      <th>Weekday</th>\n",
       "      <th>Current_Match</th>\n",
       "      <th>Country</th>\n",
       "      <th>Commodity</th>\n",
       "      <th>Transport_Mode</th>\n",
       "      <th>Measure</th>\n",
       "      <th>Value</th>\n",
       "      <th>Cumulative</th>\n",
       "    </tr>\n",
       "  </thead>\n",
       "  <tbody>\n",
       "    <tr>\n",
       "      <th>0</th>\n",
       "      <td>0</td>\n",
       "      <td>Exports</td>\n",
       "      <td>2015</td>\n",
       "      <td>31/01/2015</td>\n",
       "      <td>Saturday</td>\n",
       "      <td>01/02/2020</td>\n",
       "      <td>All</td>\n",
       "      <td>All</td>\n",
       "      <td>All</td>\n",
       "      <td>$</td>\n",
       "      <td>257000000</td>\n",
       "      <td>257000000</td>\n",
       "    </tr>\n",
       "    <tr>\n",
       "      <th>1</th>\n",
       "      <td>1</td>\n",
       "      <td>Exports</td>\n",
       "      <td>2015</td>\n",
       "      <td>01/02/2015</td>\n",
       "      <td>Sunday</td>\n",
       "      <td>02/02/2020</td>\n",
       "      <td>All</td>\n",
       "      <td>All</td>\n",
       "      <td>All</td>\n",
       "      <td>$</td>\n",
       "      <td>123000000</td>\n",
       "      <td>380000000</td>\n",
       "    </tr>\n",
       "    <tr>\n",
       "      <th>2</th>\n",
       "      <td>2</td>\n",
       "      <td>Exports</td>\n",
       "      <td>2015</td>\n",
       "      <td>02/02/2015</td>\n",
       "      <td>Monday</td>\n",
       "      <td>03/02/2020</td>\n",
       "      <td>All</td>\n",
       "      <td>All</td>\n",
       "      <td>All</td>\n",
       "      <td>$</td>\n",
       "      <td>176000000</td>\n",
       "      <td>556000000</td>\n",
       "    </tr>\n",
       "    <tr>\n",
       "      <th>3</th>\n",
       "      <td>3</td>\n",
       "      <td>Exports</td>\n",
       "      <td>2015</td>\n",
       "      <td>03/02/2015</td>\n",
       "      <td>Tuesday</td>\n",
       "      <td>04/02/2020</td>\n",
       "      <td>All</td>\n",
       "      <td>All</td>\n",
       "      <td>All</td>\n",
       "      <td>$</td>\n",
       "      <td>115000000</td>\n",
       "      <td>671000000</td>\n",
       "    </tr>\n",
       "    <tr>\n",
       "      <th>4</th>\n",
       "      <td>4</td>\n",
       "      <td>Exports</td>\n",
       "      <td>2015</td>\n",
       "      <td>04/02/2015</td>\n",
       "      <td>Wednesday</td>\n",
       "      <td>05/02/2020</td>\n",
       "      <td>All</td>\n",
       "      <td>All</td>\n",
       "      <td>All</td>\n",
       "      <td>$</td>\n",
       "      <td>74000000</td>\n",
       "      <td>746000000</td>\n",
       "    </tr>\n",
       "  </tbody>\n",
       "</table>\n",
       "</div>"
      ],
      "text/plain": [
       "   Unnamed: 0 Direction  Year        Date    Weekday Current_Match Country  \\\n",
       "0           0   Exports  2015  31/01/2015   Saturday    01/02/2020     All   \n",
       "1           1   Exports  2015  01/02/2015     Sunday    02/02/2020     All   \n",
       "2           2   Exports  2015  02/02/2015     Monday    03/02/2020     All   \n",
       "3           3   Exports  2015  03/02/2015    Tuesday    04/02/2020     All   \n",
       "4           4   Exports  2015  04/02/2015  Wednesday    05/02/2020     All   \n",
       "\n",
       "  Commodity Transport_Mode Measure      Value  Cumulative  \n",
       "0       All            All       $  257000000   257000000  \n",
       "1       All            All       $  123000000   380000000  \n",
       "2       All            All       $  176000000   556000000  \n",
       "3       All            All       $  115000000   671000000  \n",
       "4       All            All       $   74000000   746000000  "
      ]
     },
     "execution_count": 3,
     "metadata": {},
     "output_type": "execute_result"
    }
   ],
   "source": [
    "raw_data.head()"
   ]
  },
  {
   "cell_type": "code",
   "execution_count": 4,
   "metadata": {},
   "outputs": [],
   "source": [
    "data = raw_data\n",
    "data['Date']=pd.to_datetime(data['Date'])\n",
    "data['Year']=pd.to_numeric(data['Year'])\n",
    "data['Value']=pd.to_numeric(data['Value'])\n",
    "data = data.drop(['Unnamed: 0','Cumulative'],axis=1)\n",
    "dataUSA = data[data['Country']=='United States']\n",
    "data.index = data['Date']\n",
    "dataUSA.index = dataUSA['Date']"
   ]
  },
  {
   "cell_type": "code",
   "execution_count": 5,
   "metadata": {},
   "outputs": [
    {
     "data": {
      "text/html": [
       "<div>\n",
       "<style scoped>\n",
       "    .dataframe tbody tr th:only-of-type {\n",
       "        vertical-align: middle;\n",
       "    }\n",
       "\n",
       "    .dataframe tbody tr th {\n",
       "        vertical-align: top;\n",
       "    }\n",
       "\n",
       "    .dataframe thead th {\n",
       "        text-align: right;\n",
       "    }\n",
       "</style>\n",
       "<table border=\"1\" class=\"dataframe\">\n",
       "  <thead>\n",
       "    <tr style=\"text-align: right;\">\n",
       "      <th></th>\n",
       "      <th>Direction</th>\n",
       "      <th>Year</th>\n",
       "      <th>Date</th>\n",
       "      <th>Weekday</th>\n",
       "      <th>Current_Match</th>\n",
       "      <th>Country</th>\n",
       "      <th>Commodity</th>\n",
       "      <th>Transport_Mode</th>\n",
       "      <th>Measure</th>\n",
       "      <th>Value</th>\n",
       "    </tr>\n",
       "    <tr>\n",
       "      <th>Date</th>\n",
       "      <th></th>\n",
       "      <th></th>\n",
       "      <th></th>\n",
       "      <th></th>\n",
       "      <th></th>\n",
       "      <th></th>\n",
       "      <th></th>\n",
       "      <th></th>\n",
       "      <th></th>\n",
       "      <th></th>\n",
       "    </tr>\n",
       "  </thead>\n",
       "  <tbody>\n",
       "    <tr>\n",
       "      <th>2015-01-31</th>\n",
       "      <td>Exports</td>\n",
       "      <td>2015</td>\n",
       "      <td>2015-01-31</td>\n",
       "      <td>Saturday</td>\n",
       "      <td>01/02/2020</td>\n",
       "      <td>All</td>\n",
       "      <td>All</td>\n",
       "      <td>All</td>\n",
       "      <td>$</td>\n",
       "      <td>257000000</td>\n",
       "    </tr>\n",
       "    <tr>\n",
       "      <th>2015-01-02</th>\n",
       "      <td>Exports</td>\n",
       "      <td>2015</td>\n",
       "      <td>2015-01-02</td>\n",
       "      <td>Sunday</td>\n",
       "      <td>02/02/2020</td>\n",
       "      <td>All</td>\n",
       "      <td>All</td>\n",
       "      <td>All</td>\n",
       "      <td>$</td>\n",
       "      <td>123000000</td>\n",
       "    </tr>\n",
       "    <tr>\n",
       "      <th>2015-02-02</th>\n",
       "      <td>Exports</td>\n",
       "      <td>2015</td>\n",
       "      <td>2015-02-02</td>\n",
       "      <td>Monday</td>\n",
       "      <td>03/02/2020</td>\n",
       "      <td>All</td>\n",
       "      <td>All</td>\n",
       "      <td>All</td>\n",
       "      <td>$</td>\n",
       "      <td>176000000</td>\n",
       "    </tr>\n",
       "    <tr>\n",
       "      <th>2015-03-02</th>\n",
       "      <td>Exports</td>\n",
       "      <td>2015</td>\n",
       "      <td>2015-03-02</td>\n",
       "      <td>Tuesday</td>\n",
       "      <td>04/02/2020</td>\n",
       "      <td>All</td>\n",
       "      <td>All</td>\n",
       "      <td>All</td>\n",
       "      <td>$</td>\n",
       "      <td>115000000</td>\n",
       "    </tr>\n",
       "    <tr>\n",
       "      <th>2015-04-02</th>\n",
       "      <td>Exports</td>\n",
       "      <td>2015</td>\n",
       "      <td>2015-04-02</td>\n",
       "      <td>Wednesday</td>\n",
       "      <td>05/02/2020</td>\n",
       "      <td>All</td>\n",
       "      <td>All</td>\n",
       "      <td>All</td>\n",
       "      <td>$</td>\n",
       "      <td>74000000</td>\n",
       "    </tr>\n",
       "    <tr>\n",
       "      <th>...</th>\n",
       "      <td>...</td>\n",
       "      <td>...</td>\n",
       "      <td>...</td>\n",
       "      <td>...</td>\n",
       "      <td>...</td>\n",
       "      <td>...</td>\n",
       "      <td>...</td>\n",
       "      <td>...</td>\n",
       "      <td>...</td>\n",
       "      <td>...</td>\n",
       "    </tr>\n",
       "    <tr>\n",
       "      <th>2020-12-12</th>\n",
       "      <td>Reimpor</td>\n",
       "      <td>2020</td>\n",
       "      <td>2020-12-12</td>\n",
       "      <td>Saturday</td>\n",
       "      <td>12/12/2020</td>\n",
       "      <td>All</td>\n",
       "      <td>All</td>\n",
       "      <td>All</td>\n",
       "      <td>$</td>\n",
       "      <td>0</td>\n",
       "    </tr>\n",
       "    <tr>\n",
       "      <th>2020-12-13</th>\n",
       "      <td>Reimpor</td>\n",
       "      <td>2020</td>\n",
       "      <td>2020-12-13</td>\n",
       "      <td>Sunday</td>\n",
       "      <td>13/12/2020</td>\n",
       "      <td>All</td>\n",
       "      <td>All</td>\n",
       "      <td>All</td>\n",
       "      <td>$</td>\n",
       "      <td>0</td>\n",
       "    </tr>\n",
       "    <tr>\n",
       "      <th>2020-12-14</th>\n",
       "      <td>Reimpor</td>\n",
       "      <td>2020</td>\n",
       "      <td>2020-12-14</td>\n",
       "      <td>Monday</td>\n",
       "      <td>14/12/2020</td>\n",
       "      <td>All</td>\n",
       "      <td>All</td>\n",
       "      <td>All</td>\n",
       "      <td>$</td>\n",
       "      <td>0</td>\n",
       "    </tr>\n",
       "    <tr>\n",
       "      <th>2020-12-15</th>\n",
       "      <td>Reimpor</td>\n",
       "      <td>2020</td>\n",
       "      <td>2020-12-15</td>\n",
       "      <td>Tuesday</td>\n",
       "      <td>15/12/2020</td>\n",
       "      <td>All</td>\n",
       "      <td>All</td>\n",
       "      <td>All</td>\n",
       "      <td>$</td>\n",
       "      <td>2000000</td>\n",
       "    </tr>\n",
       "    <tr>\n",
       "      <th>2020-12-16</th>\n",
       "      <td>Reimpor</td>\n",
       "      <td>2020</td>\n",
       "      <td>2020-12-16</td>\n",
       "      <td>Wednesday</td>\n",
       "      <td>16/12/2020</td>\n",
       "      <td>All</td>\n",
       "      <td>All</td>\n",
       "      <td>All</td>\n",
       "      <td>$</td>\n",
       "      <td>2000000</td>\n",
       "    </tr>\n",
       "  </tbody>\n",
       "</table>\n",
       "<p>76766 rows × 10 columns</p>\n",
       "</div>"
      ],
      "text/plain": [
       "           Direction  Year       Date    Weekday Current_Match Country  \\\n",
       "Date                                                                     \n",
       "2015-01-31   Exports  2015 2015-01-31   Saturday    01/02/2020     All   \n",
       "2015-01-02   Exports  2015 2015-01-02     Sunday    02/02/2020     All   \n",
       "2015-02-02   Exports  2015 2015-02-02     Monday    03/02/2020     All   \n",
       "2015-03-02   Exports  2015 2015-03-02    Tuesday    04/02/2020     All   \n",
       "2015-04-02   Exports  2015 2015-04-02  Wednesday    05/02/2020     All   \n",
       "...              ...   ...        ...        ...           ...     ...   \n",
       "2020-12-12   Reimpor  2020 2020-12-12   Saturday    12/12/2020     All   \n",
       "2020-12-13   Reimpor  2020 2020-12-13     Sunday    13/12/2020     All   \n",
       "2020-12-14   Reimpor  2020 2020-12-14     Monday    14/12/2020     All   \n",
       "2020-12-15   Reimpor  2020 2020-12-15    Tuesday    15/12/2020     All   \n",
       "2020-12-16   Reimpor  2020 2020-12-16  Wednesday    16/12/2020     All   \n",
       "\n",
       "           Commodity Transport_Mode Measure      Value  \n",
       "Date                                                    \n",
       "2015-01-31       All            All       $  257000000  \n",
       "2015-01-02       All            All       $  123000000  \n",
       "2015-02-02       All            All       $  176000000  \n",
       "2015-03-02       All            All       $  115000000  \n",
       "2015-04-02       All            All       $   74000000  \n",
       "...              ...            ...     ...        ...  \n",
       "2020-12-12       All            All       $          0  \n",
       "2020-12-13       All            All       $          0  \n",
       "2020-12-14       All            All       $          0  \n",
       "2020-12-15       All            All       $    2000000  \n",
       "2020-12-16       All            All       $    2000000  \n",
       "\n",
       "[76766 rows x 10 columns]"
      ]
     },
     "execution_count": 5,
     "metadata": {},
     "output_type": "execute_result"
    }
   ],
   "source": [
    "data"
   ]
  },
  {
   "cell_type": "code",
   "execution_count": 6,
   "metadata": {},
   "outputs": [],
   "source": [
    "data = data.resample('W').mean()\n",
    "dataUSA = dataUSA.resample('W').mean()"
   ]
  },
  {
   "cell_type": "code",
   "execution_count": 7,
   "metadata": {},
   "outputs": [
    {
     "data": {
      "text/html": [
       "<div>\n",
       "<style scoped>\n",
       "    .dataframe tbody tr th:only-of-type {\n",
       "        vertical-align: middle;\n",
       "    }\n",
       "\n",
       "    .dataframe tbody tr th {\n",
       "        vertical-align: top;\n",
       "    }\n",
       "\n",
       "    .dataframe thead th {\n",
       "        text-align: right;\n",
       "    }\n",
       "</style>\n",
       "<table border=\"1\" class=\"dataframe\">\n",
       "  <thead>\n",
       "    <tr style=\"text-align: right;\">\n",
       "      <th></th>\n",
       "      <th>Year</th>\n",
       "      <th>Value</th>\n",
       "    </tr>\n",
       "    <tr>\n",
       "      <th>Date</th>\n",
       "      <th></th>\n",
       "      <th></th>\n",
       "    </tr>\n",
       "  </thead>\n",
       "  <tbody>\n",
       "    <tr>\n",
       "      <th>2015-01-04</th>\n",
       "      <td>2015.0</td>\n",
       "      <td>3.509575e+07</td>\n",
       "    </tr>\n",
       "    <tr>\n",
       "      <th>2015-01-11</th>\n",
       "      <td>2015.0</td>\n",
       "      <td>3.200532e+07</td>\n",
       "    </tr>\n",
       "    <tr>\n",
       "      <th>2015-01-18</th>\n",
       "      <td>2015.0</td>\n",
       "      <td>3.697782e+07</td>\n",
       "    </tr>\n",
       "    <tr>\n",
       "      <th>2015-01-25</th>\n",
       "      <td>NaN</td>\n",
       "      <td>NaN</td>\n",
       "    </tr>\n",
       "    <tr>\n",
       "      <th>2015-02-01</th>\n",
       "      <td>2015.0</td>\n",
       "      <td>3.042878e+07</td>\n",
       "    </tr>\n",
       "    <tr>\n",
       "      <th>...</th>\n",
       "      <td>...</td>\n",
       "      <td>...</td>\n",
       "    </tr>\n",
       "    <tr>\n",
       "      <th>2020-11-22</th>\n",
       "      <td>2020.0</td>\n",
       "      <td>3.757963e+07</td>\n",
       "    </tr>\n",
       "    <tr>\n",
       "      <th>2020-11-29</th>\n",
       "      <td>2020.0</td>\n",
       "      <td>3.435098e+07</td>\n",
       "    </tr>\n",
       "    <tr>\n",
       "      <th>2020-12-06</th>\n",
       "      <td>2020.0</td>\n",
       "      <td>3.581561e+07</td>\n",
       "    </tr>\n",
       "    <tr>\n",
       "      <th>2020-12-13</th>\n",
       "      <td>2020.0</td>\n",
       "      <td>2.802107e+07</td>\n",
       "    </tr>\n",
       "    <tr>\n",
       "      <th>2020-12-20</th>\n",
       "      <td>2020.0</td>\n",
       "      <td>4.869638e+07</td>\n",
       "    </tr>\n",
       "  </tbody>\n",
       "</table>\n",
       "<p>312 rows × 2 columns</p>\n",
       "</div>"
      ],
      "text/plain": [
       "              Year         Value\n",
       "Date                            \n",
       "2015-01-04  2015.0  3.509575e+07\n",
       "2015-01-11  2015.0  3.200532e+07\n",
       "2015-01-18  2015.0  3.697782e+07\n",
       "2015-01-25     NaN           NaN\n",
       "2015-02-01  2015.0  3.042878e+07\n",
       "...            ...           ...\n",
       "2020-11-22  2020.0  3.757963e+07\n",
       "2020-11-29  2020.0  3.435098e+07\n",
       "2020-12-06  2020.0  3.581561e+07\n",
       "2020-12-13  2020.0  2.802107e+07\n",
       "2020-12-20  2020.0  4.869638e+07\n",
       "\n",
       "[312 rows x 2 columns]"
      ]
     },
     "execution_count": 7,
     "metadata": {},
     "output_type": "execute_result"
    }
   ],
   "source": [
    "data"
   ]
  },
  {
   "cell_type": "code",
   "execution_count": 8,
   "metadata": {},
   "outputs": [],
   "source": [
    "data['Date'] = data.index\n",
    "dataUSA['Date'] = dataUSA.index"
   ]
  },
  {
   "cell_type": "code",
   "execution_count": 9,
   "metadata": {},
   "outputs": [
    {
     "data": {
      "text/html": [
       "<div>\n",
       "<style scoped>\n",
       "    .dataframe tbody tr th:only-of-type {\n",
       "        vertical-align: middle;\n",
       "    }\n",
       "\n",
       "    .dataframe tbody tr th {\n",
       "        vertical-align: top;\n",
       "    }\n",
       "\n",
       "    .dataframe thead th {\n",
       "        text-align: right;\n",
       "    }\n",
       "</style>\n",
       "<table border=\"1\" class=\"dataframe\">\n",
       "  <thead>\n",
       "    <tr style=\"text-align: right;\">\n",
       "      <th></th>\n",
       "      <th>Year</th>\n",
       "      <th>Value</th>\n",
       "      <th>Date</th>\n",
       "    </tr>\n",
       "    <tr>\n",
       "      <th>Date</th>\n",
       "      <th></th>\n",
       "      <th></th>\n",
       "      <th></th>\n",
       "    </tr>\n",
       "  </thead>\n",
       "  <tbody>\n",
       "    <tr>\n",
       "      <th>2015-01-04</th>\n",
       "      <td>2015.0</td>\n",
       "      <td>3.509575e+07</td>\n",
       "      <td>2015-01-04</td>\n",
       "    </tr>\n",
       "    <tr>\n",
       "      <th>2015-01-11</th>\n",
       "      <td>2015.0</td>\n",
       "      <td>3.200532e+07</td>\n",
       "      <td>2015-01-11</td>\n",
       "    </tr>\n",
       "    <tr>\n",
       "      <th>2015-01-18</th>\n",
       "      <td>2015.0</td>\n",
       "      <td>3.697782e+07</td>\n",
       "      <td>2015-01-18</td>\n",
       "    </tr>\n",
       "    <tr>\n",
       "      <th>2015-01-25</th>\n",
       "      <td>NaN</td>\n",
       "      <td>NaN</td>\n",
       "      <td>2015-01-25</td>\n",
       "    </tr>\n",
       "    <tr>\n",
       "      <th>2015-02-01</th>\n",
       "      <td>2015.0</td>\n",
       "      <td>3.042878e+07</td>\n",
       "      <td>2015-02-01</td>\n",
       "    </tr>\n",
       "    <tr>\n",
       "      <th>...</th>\n",
       "      <td>...</td>\n",
       "      <td>...</td>\n",
       "      <td>...</td>\n",
       "    </tr>\n",
       "    <tr>\n",
       "      <th>2020-11-22</th>\n",
       "      <td>2020.0</td>\n",
       "      <td>3.757963e+07</td>\n",
       "      <td>2020-11-22</td>\n",
       "    </tr>\n",
       "    <tr>\n",
       "      <th>2020-11-29</th>\n",
       "      <td>2020.0</td>\n",
       "      <td>3.435098e+07</td>\n",
       "      <td>2020-11-29</td>\n",
       "    </tr>\n",
       "    <tr>\n",
       "      <th>2020-12-06</th>\n",
       "      <td>2020.0</td>\n",
       "      <td>3.581561e+07</td>\n",
       "      <td>2020-12-06</td>\n",
       "    </tr>\n",
       "    <tr>\n",
       "      <th>2020-12-13</th>\n",
       "      <td>2020.0</td>\n",
       "      <td>2.802107e+07</td>\n",
       "      <td>2020-12-13</td>\n",
       "    </tr>\n",
       "    <tr>\n",
       "      <th>2020-12-20</th>\n",
       "      <td>2020.0</td>\n",
       "      <td>4.869638e+07</td>\n",
       "      <td>2020-12-20</td>\n",
       "    </tr>\n",
       "  </tbody>\n",
       "</table>\n",
       "<p>312 rows × 3 columns</p>\n",
       "</div>"
      ],
      "text/plain": [
       "              Year         Value       Date\n",
       "Date                                       \n",
       "2015-01-04  2015.0  3.509575e+07 2015-01-04\n",
       "2015-01-11  2015.0  3.200532e+07 2015-01-11\n",
       "2015-01-18  2015.0  3.697782e+07 2015-01-18\n",
       "2015-01-25     NaN           NaN 2015-01-25\n",
       "2015-02-01  2015.0  3.042878e+07 2015-02-01\n",
       "...            ...           ...        ...\n",
       "2020-11-22  2020.0  3.757963e+07 2020-11-22\n",
       "2020-11-29  2020.0  3.435098e+07 2020-11-29\n",
       "2020-12-06  2020.0  3.581561e+07 2020-12-06\n",
       "2020-12-13  2020.0  2.802107e+07 2020-12-13\n",
       "2020-12-20  2020.0  4.869638e+07 2020-12-20\n",
       "\n",
       "[312 rows x 3 columns]"
      ]
     },
     "execution_count": 9,
     "metadata": {},
     "output_type": "execute_result"
    }
   ],
   "source": [
    "data"
   ]
  },
  {
   "cell_type": "markdown",
   "metadata": {},
   "source": [
    "## Scatter Plot"
   ]
  },
  {
   "cell_type": "code",
   "execution_count": 10,
   "metadata": {},
   "outputs": [
    {
     "data": {
      "text/plain": [
       "<matplotlib.axes._subplots.AxesSubplot at 0x7f74f68b21d0>"
      ]
     },
     "execution_count": 10,
     "metadata": {},
     "output_type": "execute_result"
    },
    {
     "data": {
      "image/png": "[encoded data removed]",
      "text/plain": [
       "<Figure size 432x288 with 1 Axes>"
      ]
     },
     "metadata": {
      "needs_background": "light"
     },
     "output_type": "display_data"
    }
   ],
   "source": [
    "data.plot(kind=\"scatter\", x='Date', y='Value')"
   ]
  },
  {
   "cell_type": "code",
   "execution_count": 11,
   "metadata": {},
   "outputs": [
    {
     "data": {
      "text/plain": [
       "<matplotlib.axes._subplots.AxesSubplot at 0x7f74f438f940>"
      ]
     },
     "execution_count": 11,
     "metadata": {},
     "output_type": "execute_result"
    },
    {
     "data": {
      "image/png": "[encoded data removed]",
      "text/plain": [
       "<Figure size 432x288 with 1 Axes>"
      ]
     },
     "metadata": {
      "needs_background": "light"
     },
     "output_type": "display_data"
    }
   ],
   "source": [
    "dataUSA.plot(kind=\"scatter\", x='Date', y='Value')"
   ]
  },
  {
   "cell_type": "code",
   "execution_count": 12,
   "metadata": {},
   "outputs": [
    {
     "data": {
      "text/plain": [
       "<matplotlib.axes._subplots.AxesSubplot at 0x7f74f433c978>"
      ]
     },
     "execution_count": 12,
     "metadata": {},
     "output_type": "execute_result"
    },
    {
     "data": {
      "image/png": "[encoded data removed]",
      "text/plain": [
       "<Figure size 1080x288 with 2 Axes>"
      ]
     },
     "metadata": {
      "needs_background": "light"
     },
     "output_type": "display_data"
    }
   ],
   "source": [
    "figure, axs = plt.subplots(1,2, sharey=True, sharex=True, figsize=(15,4))\n",
    "data.plot(kind=\"scatter\", x='Date', y='Value', ax=axs[0])\n",
    "dataUSA.plot(kind=\"scatter\", x='Date', y='Value', ax=axs[1])"
   ]
  },
  {
   "cell_type": "markdown",
   "metadata": {},
   "source": [
    "## Histogramas"
   ]
  },
  {
   "cell_type": "code",
   "execution_count": 13,
   "metadata": {},
   "outputs": [
    {
     "name": "stdout",
     "output_type": "stream",
     "text": [
      "nº de divisiones: 10\n"
     ]
    },
    {
     "data": {
      "text/plain": [
       "Text(0.5, 1.0, 'Histograma del valor de las importaciones/exportaciones')"
      ]
     },
     "execution_count": 13,
     "metadata": {},
     "output_type": "execute_result"
    },
    {
     "data": {
      "image/png": "[encoded data removed]",
      "text/plain": [
       "<Figure size 432x288 with 1 Axes>"
      ]
     },
     "metadata": {
      "needs_background": "light"
     },
     "output_type": "display_data"
    }
   ],
   "source": [
    "not_nan_data = data[data['Value'].notna()]\n",
    "k = int(np.ceil(1+np.log2(len(not_nan_data)))) #Regla de Struges para calcular el nº de divisiones\n",
    "print(\"nº de divisiones: %d\" % (k))\n",
    "plt.hist(not_nan_data['Value'], bins = k)\n",
    "plt.xlabel(\"Valor de las importaciones/exportaciones\")\n",
    "plt.ylabel(\"Frecuencia\")\n",
    "plt.title(\"Histograma del valor de las importaciones/exportaciones\")"
   ]
  },
  {
   "cell_type": "code",
   "execution_count": 16,
   "metadata": {},
   "outputs": [
    {
     "name": "stdout",
     "output_type": "stream",
     "text": [
      "nº de divisiones: 10\n"
     ]
    },
    {
     "data": {
      "text/plain": [
       "Text(0.5, 1.0, 'Histograma del valor de las importaciones/exportaciones')"
      ]
     },
     "execution_count": 16,
     "metadata": {},
     "output_type": "execute_result"
    },
    {
     "data": {
      "image/png": "[encoded data removed]",
      "text/plain": [
       "<Figure size 432x288 with 1 Axes>"
      ]
     },
     "metadata": {
      "needs_background": "light"
     },
     "output_type": "display_data"
    }
   ],
   "source": [
    "not_nan_data_usa = dataUSA[dataUSA['Value'].notna()]\n",
    "k = int(np.ceil(1+np.log2(len(not_nan_data_usa)))) #Regla de Struges para calcular el nº de divisiones\n",
    "print(\"nº de divisiones: %d\" % (k))\n",
    "plt.hist(not_nan_data_usa['Value'], bins = k)\n",
    "plt.xlabel(\"Valor de las importaciones/exportaciones\")\n",
    "plt.ylabel(\"Frecuencia\")\n",
    "plt.title(\"Histograma del valor de las importaciones/exportaciones\")"
   ]
  },
  {
   "cell_type": "markdown",
   "metadata": {},
   "source": [
    "## Boxplot"
   ]
  },
  {
   "cell_type": "code",
   "execution_count": 14,
   "metadata": {},
   "outputs": [
    {
     "data": {
      "text/plain": [
       "{'whiskers': [<matplotlib.lines.Line2D at 0x7f74f4184ef0>,\n",
       "  <matplotlib.lines.Line2D at 0x7f74f41952b0>],\n",
       " 'caps': [<matplotlib.lines.Line2D at 0x7f74f4195630>,\n",
       "  <matplotlib.lines.Line2D at 0x7f74f41959b0>],\n",
       " 'boxes': [<matplotlib.lines.Line2D at 0x7f74f4184be0>],\n",
       " 'medians': [<matplotlib.lines.Line2D at 0x7f74f4195d30>],\n",
       " 'fliers': [<matplotlib.lines.Line2D at 0x7f74f41a10f0>],\n",
       " 'means': []}"
      ]
     },
     "execution_count": 14,
     "metadata": {},
     "output_type": "execute_result"
    },
    {
     "data": {
      "image/png": "[encoded data removed]",
      "text/plain": [
       "<Figure size 432x288 with 1 Axes>"
      ]
     },
     "metadata": {
      "needs_background": "light"
     },
     "output_type": "display_data"
    }
   ],
   "source": [
    "plt.boxplot(not_nan_data['Value'])"
   ]
  },
  {
   "cell_type": "code",
   "execution_count": 15,
   "metadata": {},
   "outputs": [
    {
     "data": {
      "text/plain": [
       "count    2.960000e+02\n",
       "mean     3.141896e+07\n",
       "std      4.445412e+06\n",
       "min      1.740255e+07\n",
       "25%      2.841682e+07\n",
       "50%      3.088336e+07\n",
       "75%      3.463165e+07\n",
       "max      4.869638e+07\n",
       "Name: Value, dtype: float64"
      ]
     },
     "execution_count": 15,
     "metadata": {},
     "output_type": "execute_result"
    }
   ],
   "source": [
    "not_nan_data['Value'].describe()"
   ]
  },
  {
   "cell_type": "code",
   "execution_count": 17,
   "metadata": {},
   "outputs": [
    {
     "data": {
      "text/plain": [
       "{'whiskers': [<matplotlib.lines.Line2D at 0x7f74f40ede48>,\n",
       "  <matplotlib.lines.Line2D at 0x7f74f40fc208>],\n",
       " 'caps': [<matplotlib.lines.Line2D at 0x7f74f40fc588>,\n",
       "  <matplotlib.lines.Line2D at 0x7f74f40fc908>],\n",
       " 'boxes': [<matplotlib.lines.Line2D at 0x7f74f40edb38>],\n",
       " 'medians': [<matplotlib.lines.Line2D at 0x7f74f40fcc88>],\n",
       " 'fliers': [<matplotlib.lines.Line2D at 0x7f74f4087048>],\n",
       " 'means': []}"
      ]
     },
     "execution_count": 17,
     "metadata": {},
     "output_type": "execute_result"
    },
    {
     "data": {
      "image/png": "[encoded data removed]",
      "text/plain": [
       "<Figure size 432x288 with 1 Axes>"
      ]
     },
     "metadata": {
      "needs_background": "light"
     },
     "output_type": "display_data"
    }
   ],
   "source": [
    "plt.boxplot(not_nan_data_usa['Value'])"
   ]
  },
  {
   "cell_type": "code",
   "execution_count": 18,
   "metadata": {},
   "outputs": [
    {
     "data": {
      "text/plain": [
       "count    2.960000e+02\n",
       "mean     6.683847e+06\n",
       "std      2.165062e+06\n",
       "min      6.666667e+05\n",
       "25%      5.111222e+06\n",
       "50%      6.381095e+06\n",
       "75%      8.065762e+06\n",
       "max      1.533383e+07\n",
       "Name: Value, dtype: float64"
      ]
     },
     "execution_count": 18,
     "metadata": {},
     "output_type": "execute_result"
    }
   ],
   "source": [
    "not_nan_data_usa['Value'].describe()"
   ]
  },
  {
   "cell_type": "code",
   "execution_count": null,
   "metadata": {},
   "outputs": [],
   "source": []
  }
 ],
 "metadata": {
  "kernelspec": {
   "display_name": "Python 3",
   "language": "python",
   "name": "python3"
  },
  "language_info": {
   "codemirror_mode": {
    "name": "ipython",
    "version": 3
   },
   "file_extension": ".py",
   "mimetype": "text/x-python",
   "name": "python",
   "nbconvert_exporter": "python",
   "pygments_lexer": "ipython3",
   "version": "3.6.9"
  }
 },
 "nbformat": 4,
 "nbformat_minor": 4
}
