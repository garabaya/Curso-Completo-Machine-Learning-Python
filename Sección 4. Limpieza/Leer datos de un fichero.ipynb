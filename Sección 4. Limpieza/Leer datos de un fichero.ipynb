{
 "cells": [
  {
   "cell_type": "code",
   "execution_count": 20,
   "metadata": {},
   "outputs": [],
   "source": [
    "import pandas as pd\n",
    "data = pd.read_csv(\"../datasets/titanic/titanic3.csv\")\n",
    "url = \"https://www.stats.govt.nz/assets/Uploads/Effects-of-COVID-19-on-trade/Effects-of-COVID-19-on-trade-1-February-16-December-2020-provisional/Download-data/Effects-of-COVID-19-on-trade-1-February-16-December-2020-provisional.csv\"\n",
    "data2 = pd.read_csv(url)\n",
    "data3 = pd.read_excel(\"../datasets/titanic/titanic3.xls\", \"titanic3\") #pip3 install xlrd\n",
    "#xlrd has explicitly removed support for anything other than xls files.\n",
    "#    This is due to potential security vulnerabilities relating to the use of xlrd version 1.2 or earlier for reading .xlsx files.\n",
    "#data4 = pd.read_excel(\"../datasets/titanic/titanic3.xlsx\")"
   ]
  },
  {
   "cell_type": "code",
   "execution_count": 21,
   "metadata": {},
   "outputs": [],
   "source": [
    "data3.to_csv(\"../datasets/titanic/titanic3_custom.csv\")"
   ]
  },
  {
   "cell_type": "code",
   "execution_count": null,
   "metadata": {},
   "outputs": [],
   "source": []
  }
 ],
 "metadata": {
  "kernelspec": {
   "display_name": "Python 3",
   "language": "python",
   "name": "python3"
  },
  "language_info": {
   "codemirror_mode": {
    "name": "ipython",
    "version": 3
   },
   "file_extension": ".py",
   "mimetype": "text/x-python",
   "name": "python",
   "nbconvert_exporter": "python",
   "pygments_lexer": "ipython3",
   "version": "3.6.9"
  }
 },
 "nbformat": 4,
 "nbformat_minor": 4
}
